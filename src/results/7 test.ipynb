{
 "cells": [
  {
   "cell_type": "code",
   "execution_count": 40,
   "id": "3d567c47",
   "metadata": {},
   "outputs": [],
   "source": [
    "import pandas as pd\n",
    "import numpy as np\n",
    "import statsmodels.api as sm\n",
    "from statsmodels.stats.outliers_influence import variance_inflation_factor\n",
    "\n",
    "\n",
    "data_path = 'C:/Users/Usuario/Desktop/data-science/dialogic_accounting_pibic/data'\n",
    "\n",
    "# Carrega o dataframe\n",
    "df = pd.read_excel(data_path + '/results/2_independent_variable_4024.xlsx')\n",
    "df = df.dropna(subset=['IEngajamento'])\n",
    "df[\"log_IEngajamento\"] = np.log1p(df[\"IEngajamento\"])"
   ]
  },
  {
   "cell_type": "code",
   "execution_count": 36,
   "id": "32290423",
   "metadata": {},
   "outputs": [],
   "source": [
    "variaveis_base = [\n",
    "    'classify_5_inverted',\n",
    "    'content_type',\n",
    "    'posts_per_day',\n",
    "    'period_of_day',\n",
    "    'num_hashtags',\n",
    "    'flesch_index',\n",
    "    'call_to_action',\n",
    "    'gov_commented',\n",
    "    'mean_comment_sentiment'\n",
    "]"
   ]
  },
  {
   "cell_type": "code",
   "execution_count": 37,
   "id": "3be01182",
   "metadata": {},
   "outputs": [],
   "source": [
    "variaveis_independentes = [\n",
    "    'num_hashtags',\n",
    "    'content_type',\n",
    "    'posts_per_day'\n",
    "]"
   ]
  },
  {
   "cell_type": "code",
   "execution_count": 41,
   "id": "7ffb914d",
   "metadata": {},
   "outputs": [],
   "source": [
    "def rodar_regressao(df, variaveis, label, regiao=False):\n",
    "    X = df[variaveis].copy()\n",
    "    if regiao is not False:\n",
    "        X = df[df['regiao'] == regiao][variaveis].copy()\n",
    "\n",
    "    X = pd.get_dummies(X, drop_first=True)\n",
    "    X = sm.add_constant(X).astype(float)\n",
    "    Y = df[\"log_IEngajamento\"]\n",
    "\n",
    "    modelo = sm.OLS(Y, X).fit(cov_type=\"HAC\", cov_kwds={\"maxlags\": 5})\n",
    "    print(f\"\\n=== Modelo {label} ===\")\n",
    "    print(modelo.summary())\n",
    "\n",
    "    print(\"\\n=== VIF (Multicolinearidade) ===\")\n",
    "    vif = pd.DataFrame()\n",
    "    vif[\"Variável\"] = X.columns\n",
    "    vif[\"VIF\"] = [variance_inflation_factor(X.values, i) for i in range(X.shape[1])]\n",
    "    print(vif)\n",
    "    return modelo"
   ]
  },
  {
   "cell_type": "code",
   "execution_count": 42,
   "id": "60eebdb0",
   "metadata": {},
   "outputs": [
    {
     "name": "stdout",
     "output_type": "stream",
     "text": [
      "\n",
      "=== Modelo Geral ===\n",
      "                            OLS Regression Results                            \n",
      "==============================================================================\n",
      "Dep. Variable:       log_IEngajamento   R-squared:                       0.151\n",
      "Model:                            OLS   Adj. R-squared:                  0.148\n",
      "Method:                 Least Squares   F-statistic:                     19.14\n",
      "Date:                Fri, 29 Aug 2025   Prob (F-statistic):           3.64e-47\n",
      "Time:                        10:16:56   Log-Likelihood:                -4875.9\n",
      "No. Observations:                3710   AIC:                             9782.\n",
      "Df Residuals:                    3695   BIC:                             9875.\n",
      "Df Model:                          14                                         \n",
      "Covariance Type:                  HAC                                         \n",
      "=============================================================================================================================\n",
      "                                                                coef    std err          z      P>|z|      [0.025      0.975]\n",
      "-----------------------------------------------------------------------------------------------------------------------------\n",
      "const                                                         5.3625      0.095     56.175      0.000       5.175       5.550\n",
      "posts_per_day                                                -0.9002      0.075    -12.007      0.000      -1.047      -0.753\n",
      "num_hashtags                                                 -0.0440      0.009     -4.998      0.000      -0.061      -0.027\n",
      "flesch_index                                                 -0.0020      0.001     -2.466      0.014      -0.004      -0.000\n",
      "call_to_action                                                0.1066      0.052      2.041      0.041       0.004       0.209\n",
      "gov_commented                                                -0.0040      0.081     -0.049      0.961      -0.163       0.155\n",
      "mean_comment_sentiment                                        0.4711      0.038     12.491      0.000       0.397       0.545\n",
      "classify_5_inverted_Nível 2 (Baixo Detalhe Intermediário)     0.0436      0.036      1.197      0.231      -0.028       0.115\n",
      "classify_5_inverted_Nível 3 (Detalhe Moderado/Médio)         -0.0464      0.047     -0.980      0.327      -0.139       0.046\n",
      "classify_5_inverted_Nível 4 (Alto Detalhe)                   -0.1313      0.058     -2.246      0.025      -0.246      -0.017\n",
      "classify_5_inverted_Nível 5 (Extremo Detalhe)                 0.1808      0.177      1.022      0.307      -0.166       0.528\n",
      "content_type_Vídeo                                           -0.0213      0.035     -0.614      0.539      -0.089       0.047\n",
      "period_of_day_Manhã                                           0.1967      0.095      2.077      0.038       0.011       0.382\n",
      "period_of_day_Noite                                           0.0264      0.066      0.401      0.689      -0.103       0.155\n",
      "period_of_day_Tarde                                           0.0037      0.067      0.056      0.955      -0.128       0.135\n",
      "==============================================================================\n",
      "Omnibus:                       41.297   Durbin-Watson:                   0.284\n",
      "Prob(Omnibus):                  0.000   Jarque-Bera (JB):               42.742\n",
      "Skew:                           0.247   Prob(JB):                     5.23e-10\n",
      "Kurtosis:                       3.180   Cond. No.                         733.\n",
      "==============================================================================\n",
      "\n",
      "Notes:\n",
      "[1] Standard Errors are heteroscedasticity and autocorrelation robust (HAC) using 5 lags and without small sample correction\n",
      "\n",
      "=== VIF (Multicolinearidade) ===\n",
      "                                             Variável        VIF\n",
      "0                                               const  42.755608\n",
      "1                                       posts_per_day   1.070524\n",
      "2                                        num_hashtags   1.221455\n",
      "3                                        flesch_index   1.282420\n",
      "4                                      call_to_action   1.012310\n",
      "5                                       gov_commented   1.014984\n",
      "6                              mean_comment_sentiment   1.031293\n",
      "7   classify_5_inverted_Nível 2 (Baixo Detalhe Int...   1.458797\n",
      "8   classify_5_inverted_Nível 3 (Detalhe Moderado/...   1.356839\n",
      "9          classify_5_inverted_Nível 4 (Alto Detalhe)   1.233969\n",
      "10      classify_5_inverted_Nível 5 (Extremo Detalhe)   1.026070\n",
      "11                                 content_type_Vídeo   1.040432\n",
      "12                                period_of_day_Manhã   1.932405\n",
      "13                                period_of_day_Noite   5.311464\n",
      "14                                period_of_day_Tarde   5.341523\n"
     ]
    },
    {
     "data": {
      "text/plain": [
       "<statsmodels.regression.linear_model.RegressionResultsWrapper at 0x290a84c5cd0>"
      ]
     },
     "execution_count": 42,
     "metadata": {},
     "output_type": "execute_result"
    }
   ],
   "source": [
    "rodar_regressao(df, variaveis_base, label=\"Geral\")"
   ]
  },
  {
   "cell_type": "code",
   "execution_count": 21,
   "id": "7f20c098",
   "metadata": {},
   "outputs": [
    {
     "data": {
      "text/plain": [
       "Index(['classify_5_inverted', 'content_type', 'posts_per_day', 'period_of_day',\n",
       "       'num_hashtags', 'flesch_index', 'call_to_action', 'gov_commented',\n",
       "       'mean_comment_sentiment'],\n",
       "      dtype='object')"
      ]
     },
     "execution_count": 21,
     "metadata": {},
     "output_type": "execute_result"
    }
   ],
   "source": [
    "df[variaveis_base].columns"
   ]
  },
  {
   "cell_type": "code",
   "execution_count": null,
   "id": "ca1792aa",
   "metadata": {},
   "outputs": [
    {
     "data": {
      "text/html": [
       "<div>\n",
       "<style scoped>\n",
       "    .dataframe tbody tr th:only-of-type {\n",
       "        vertical-align: middle;\n",
       "    }\n",
       "\n",
       "    .dataframe tbody tr th {\n",
       "        vertical-align: top;\n",
       "    }\n",
       "\n",
       "    .dataframe thead th {\n",
       "        text-align: right;\n",
       "    }\n",
       "</style>\n",
       "<table border=\"1\" class=\"dataframe\">\n",
       "  <thead>\n",
       "    <tr style=\"text-align: right;\">\n",
       "      <th></th>\n",
       "      <th>classify_5_inverted</th>\n",
       "      <th>content_type</th>\n",
       "      <th>posts_per_day</th>\n",
       "      <th>period_of_day</th>\n",
       "      <th>num_hashtags</th>\n",
       "      <th>flesch_index</th>\n",
       "      <th>call_to_action</th>\n",
       "      <th>gov_commented</th>\n",
       "      <th>mean_comment_sentiment</th>\n",
       "    </tr>\n",
       "  </thead>\n",
       "  <tbody>\n",
       "    <tr>\n",
       "      <th>count</th>\n",
       "      <td>3710</td>\n",
       "      <td>3710</td>\n",
       "      <td>3710.000000</td>\n",
       "      <td>3710</td>\n",
       "      <td>3710.000000</td>\n",
       "      <td>3710.000000</td>\n",
       "      <td>3710.00000</td>\n",
       "      <td>3710.000000</td>\n",
       "      <td>3710.000000</td>\n",
       "    </tr>\n",
       "    <tr>\n",
       "      <th>unique</th>\n",
       "      <td>5</td>\n",
       "      <td>2</td>\n",
       "      <td>NaN</td>\n",
       "      <td>4</td>\n",
       "      <td>NaN</td>\n",
       "      <td>NaN</td>\n",
       "      <td>NaN</td>\n",
       "      <td>NaN</td>\n",
       "      <td>NaN</td>\n",
       "    </tr>\n",
       "    <tr>\n",
       "      <th>top</th>\n",
       "      <td>Nível 2 (Baixo Detalhe Intermediário)</td>\n",
       "      <td>Imagem</td>\n",
       "      <td>NaN</td>\n",
       "      <td>Noite</td>\n",
       "      <td>NaN</td>\n",
       "      <td>NaN</td>\n",
       "      <td>NaN</td>\n",
       "      <td>NaN</td>\n",
       "      <td>NaN</td>\n",
       "    </tr>\n",
       "    <tr>\n",
       "      <th>freq</th>\n",
       "      <td>1803</td>\n",
       "      <td>2049</td>\n",
       "      <td>NaN</td>\n",
       "      <td>1676</td>\n",
       "      <td>NaN</td>\n",
       "      <td>NaN</td>\n",
       "      <td>NaN</td>\n",
       "      <td>NaN</td>\n",
       "      <td>NaN</td>\n",
       "    </tr>\n",
       "    <tr>\n",
       "      <th>mean</th>\n",
       "      <td>NaN</td>\n",
       "      <td>NaN</td>\n",
       "      <td>0.579463</td>\n",
       "      <td>NaN</td>\n",
       "      <td>2.856065</td>\n",
       "      <td>51.675666</td>\n",
       "      <td>0.10000</td>\n",
       "      <td>0.025337</td>\n",
       "      <td>0.528032</td>\n",
       "    </tr>\n",
       "    <tr>\n",
       "      <th>std</th>\n",
       "      <td>NaN</td>\n",
       "      <td>NaN</td>\n",
       "      <td>0.253541</td>\n",
       "      <td>NaN</td>\n",
       "      <td>2.266495</td>\n",
       "      <td>20.044462</td>\n",
       "      <td>0.30004</td>\n",
       "      <td>0.157168</td>\n",
       "      <td>0.499281</td>\n",
       "    </tr>\n",
       "    <tr>\n",
       "      <th>min</th>\n",
       "      <td>NaN</td>\n",
       "      <td>NaN</td>\n",
       "      <td>0.112329</td>\n",
       "      <td>NaN</td>\n",
       "      <td>0.000000</td>\n",
       "      <td>-49.801667</td>\n",
       "      <td>0.00000</td>\n",
       "      <td>0.000000</td>\n",
       "      <td>0.000000</td>\n",
       "    </tr>\n",
       "    <tr>\n",
       "      <th>25%</th>\n",
       "      <td>NaN</td>\n",
       "      <td>NaN</td>\n",
       "      <td>0.405479</td>\n",
       "      <td>NaN</td>\n",
       "      <td>1.000000</td>\n",
       "      <td>39.342627</td>\n",
       "      <td>0.00000</td>\n",
       "      <td>0.000000</td>\n",
       "      <td>0.000000</td>\n",
       "    </tr>\n",
       "    <tr>\n",
       "      <th>50%</th>\n",
       "      <td>NaN</td>\n",
       "      <td>NaN</td>\n",
       "      <td>0.493151</td>\n",
       "      <td>NaN</td>\n",
       "      <td>3.000000</td>\n",
       "      <td>51.418865</td>\n",
       "      <td>0.00000</td>\n",
       "      <td>0.000000</td>\n",
       "      <td>1.000000</td>\n",
       "    </tr>\n",
       "    <tr>\n",
       "      <th>75%</th>\n",
       "      <td>NaN</td>\n",
       "      <td>NaN</td>\n",
       "      <td>0.761644</td>\n",
       "      <td>NaN</td>\n",
       "      <td>4.000000</td>\n",
       "      <td>64.409750</td>\n",
       "      <td>0.00000</td>\n",
       "      <td>0.000000</td>\n",
       "      <td>1.000000</td>\n",
       "    </tr>\n",
       "    <tr>\n",
       "      <th>max</th>\n",
       "      <td>NaN</td>\n",
       "      <td>NaN</td>\n",
       "      <td>1.005479</td>\n",
       "      <td>NaN</td>\n",
       "      <td>12.000000</td>\n",
       "      <td>132.092828</td>\n",
       "      <td>1.00000</td>\n",
       "      <td>1.000000</td>\n",
       "      <td>1.000000</td>\n",
       "    </tr>\n",
       "  </tbody>\n",
       "</table>\n",
       "</div>"
      ],
      "text/plain": [
       "                          classify_5_inverted content_type  posts_per_day  \\\n",
       "count                                    3710         3710    3710.000000   \n",
       "unique                                      5            2            NaN   \n",
       "top     Nível 2 (Baixo Detalhe Intermediário)       Imagem            NaN   \n",
       "freq                                     1803         2049            NaN   \n",
       "mean                                      NaN          NaN       0.579463   \n",
       "std                                       NaN          NaN       0.253541   \n",
       "min                                       NaN          NaN       0.112329   \n",
       "25%                                       NaN          NaN       0.405479   \n",
       "50%                                       NaN          NaN       0.493151   \n",
       "75%                                       NaN          NaN       0.761644   \n",
       "max                                       NaN          NaN       1.005479   \n",
       "\n",
       "       period_of_day  num_hashtags  flesch_index  call_to_action  \\\n",
       "count           3710   3710.000000   3710.000000      3710.00000   \n",
       "unique             4           NaN           NaN             NaN   \n",
       "top            Noite           NaN           NaN             NaN   \n",
       "freq            1676           NaN           NaN             NaN   \n",
       "mean             NaN      2.856065     51.675666         0.10000   \n",
       "std              NaN      2.266495     20.044462         0.30004   \n",
       "min              NaN      0.000000    -49.801667         0.00000   \n",
       "25%              NaN      1.000000     39.342627         0.00000   \n",
       "50%              NaN      3.000000     51.418865         0.00000   \n",
       "75%              NaN      4.000000     64.409750         0.00000   \n",
       "max              NaN     12.000000    132.092828         1.00000   \n",
       "\n",
       "        gov_commented  mean_comment_sentiment  \n",
       "count     3710.000000             3710.000000  \n",
       "unique            NaN                     NaN  \n",
       "top               NaN                     NaN  \n",
       "freq              NaN                     NaN  \n",
       "mean         0.025337                0.528032  \n",
       "std          0.157168                0.499281  \n",
       "min          0.000000                0.000000  \n",
       "25%          0.000000                0.000000  \n",
       "50%          0.000000                1.000000  \n",
       "75%          0.000000                1.000000  \n",
       "max          1.000000                1.000000  "
      ]
     },
     "execution_count": 18,
     "metadata": {},
     "output_type": "execute_result"
    }
   ],
   "source": [
    "df[variaveis_base].describe(include='all')"
   ]
  },
  {
   "cell_type": "code",
   "execution_count": 19,
   "id": "15b58592",
   "metadata": {},
   "outputs": [
    {
     "data": {
      "text/plain": [
       "classify_5_inverted\n",
       "Nível 2 (Baixo Detalhe Intermediário)    0.485984\n",
       "Nível 1 (Mínimo ou Genérico)             0.291105\n",
       "Nível 3 (Detalhe Moderado/Médio)         0.142588\n",
       "Nível 4 (Alto Detalhe)                   0.074394\n",
       "Nível 5 (Extremo Detalhe)                0.005930\n",
       "Name: proportion, dtype: float64"
      ]
     },
     "execution_count": 19,
     "metadata": {},
     "output_type": "execute_result"
    }
   ],
   "source": [
    "df['classify_5_inverted'].value_counts(normalize=True)"
   ]
  },
  {
   "cell_type": "code",
   "execution_count": 45,
   "id": "652d3b4a",
   "metadata": {},
   "outputs": [
    {
     "data": {
      "text/plain": [
       "count    3710.000000\n",
       "mean      214.637332\n",
       "std       292.599190\n",
       "min         2.500000\n",
       "25%        68.000000\n",
       "50%       134.000000\n",
       "75%       253.875000\n",
       "max      7049.000000\n",
       "Name: IEngajamento, dtype: float64"
      ]
     },
     "execution_count": 45,
     "metadata": {},
     "output_type": "execute_result"
    }
   ],
   "source": [
    "df['IEngajamento'].dropna().describe()"
   ]
  },
  {
   "cell_type": "code",
   "execution_count": 44,
   "id": "64cdc85a",
   "metadata": {},
   "outputs": [
    {
     "data": {
      "image/png": "[encoded data removed]",
      "text/plain": [
       "<Figure size 1200x500 with 2 Axes>"
      ]
     },
     "metadata": {},
     "output_type": "display_data"
    }
   ],
   "source": [
    "import matplotlib.pyplot as plt\n",
    "\n",
    "# Plotar os histogramas lado a lado\n",
    "plt.figure(figsize=(12,5))\n",
    "\n",
    "# Histograma da variável original\n",
    "plt.subplot(1, 2, 1)\n",
    "plt.hist(df[\"IEngajamento\"], bins=50, edgecolor=\"black\")\n",
    "plt.title(\"Distribuição de IEngajamento (Original)\")\n",
    "plt.xlabel(\"IEngajamento\")\n",
    "plt.ylabel(\"Frequência\")\n",
    "\n",
    "# Histograma da variável transformada\n",
    "plt.subplot(1, 2, 2)\n",
    "plt.hist(df[\"log_IEngajamento\"], bins=50, edgecolor=\"black\")\n",
    "plt.title(\"Distribuição de IEngajamento (Log-transformado)\")\n",
    "plt.xlabel(\"log(1 + IEngajamento)\")\n",
    "plt.ylabel(\"Frequência\")\n",
    "\n",
    "plt.tight_layout()\n",
    "plt.show()"
   ]
  }
 ],
 "metadata": {
  "kernelspec": {
   "display_name": "Python 3",
   "language": "python",
   "name": "python3"
  },
  "language_info": {
   "codemirror_mode": {
    "name": "ipython",
    "version": 3
   },
   "file_extension": ".py",
   "mimetype": "text/x-python",
   "name": "python",
   "nbconvert_exporter": "python",
   "pygments_lexer": "ipython3",
   "version": "3.13.5"
  }
 },
 "nbformat": 4,
 "nbformat_minor": 5
}
